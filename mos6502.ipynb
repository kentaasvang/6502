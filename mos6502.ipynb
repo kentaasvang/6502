{
 "cells": [
  {
   "cell_type": "markdown",
   "metadata": {},
   "source": [
    "# MOS 6502 \n",
    "\n",
    "![6502-pinout](./assets/6502-pinout.png)\n",
    "![pinout-keys](./assets/pinout-key.png)"
   ]
  },
  {
   "cell_type": "markdown",
   "metadata": {},
   "source": [
    "## Architecture\n",
    "\n",
    "- 8 bit CPU\n",
    "- 64Kb memory\n",
    "- 16 bit address bus.\n",
    "- little endian (Least significant byte first)\n",
    "\n",
    "### Reserved locations in memory\n",
    "\n",
    "**$0000-$00FF = zero page**\n",
    "\n",
    "- Has a number of special addressing modes that result in shorter instructions, or allow indirect access to the memory.\n",
    "\n",
    "**$0100-$01FF = system stack**\n",
    "\n",
    "**$FFFA-$FFFF**\n",
    "\n",
    "- $FFFA/B: non-maskable interrupt handler\n",
    "- $FFFC/D: power on reset location \n",
    "- $FFFE/F: BRK/interrupt request handler\n"
   ]
  },
  {
   "cell_type": "markdown",
   "metadata": {},
   "source": [
    "# Internal arcitecture\n",
    "![Internal architecture](./assets/6502-internal-architecture.png)"
   ]
  },
  {
   "cell_type": "markdown",
   "metadata": {},
   "source": [
    "## Instruction Set\n",
    "\n",
    "### Load/Store Ops\n",
    "\n",
    "### Register Transfers\n",
    "\n",
    "### Stack Operations\n",
    "\n",
    "### Logical\n",
    "\n",
    "### Arithmetic\n",
    "\n",
    "### Increments and Decrements\n",
    "\n",
    "### Shifts\n",
    "\n",
    "### Jumps and Calls\n",
    "\n",
    "### Branches\n",
    "\n",
    "### Status Flag Changes\n",
    "\n",
    "### System Functions"
   ]
  },
  {
   "cell_type": "markdown",
   "metadata": {},
   "source": [
    "# Processor Register\n",
    "\n",
    "Quickly accessible location available to a computers processor."
   ]
  },
  {
   "cell_type": "markdown",
   "metadata": {},
   "source": [
    "# References\n",
    "\n",
    "- [princeton](https://www.princeton.edu/~mae412/HANDOUTS/Datasheets/6502.pdf)\n",
    "- [Wikipedia - registeres](https://en.wikipedia.org/wiki/Processor_register)\n",
    "- [Wikipedia - MOS tech](https://en.wikipedia.org/wiki/MOS_Technology_6502#Registers)\n",
    "- [6502.org](http://www.6502.org)\n",
    "\n"
   ]
  }
 ],
 "metadata": {
  "kernelspec": {
   "display_name": "venv",
   "language": "python",
   "name": "python3"
  },
  "language_info": {
   "codemirror_mode": {
    "name": "ipython",
    "version": 3
   },
   "file_extension": ".py",
   "mimetype": "text/x-python",
   "name": "python",
   "nbconvert_exporter": "python",
   "pygments_lexer": "ipython3",
   "version": "3.10.12"
  }
 },
 "nbformat": 4,
 "nbformat_minor": 2
}
